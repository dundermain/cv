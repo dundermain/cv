{
 "cells": [
  {
   "cell_type": "markdown",
   "metadata": {},
   "source": [
    "EDGE DETECTION USING SOVBEL FILTER"
   ]
  },
  {
   "cell_type": "markdown",
   "metadata": {},
   "source": [
    "A very good reference on how sobel filter works : https://aryamansharda.medium.com/how-image-edge-detection-works-b759baac01e2\n",
    "\n",
    "\n",
    "In the simplest terms, thIS algorithm works by running a 3x3 matrix (known as the kernel) over all the pixels in the image. \n",
    "At every iteration, we measure the change in the gradient of the pixels that fall within this 3x3 kernel. The greater the change in pixel intensity, the more significant the edge there is.\n"
   ]
  },
  {
   "cell_type": "code",
   "execution_count": 1,
   "metadata": {},
   "outputs": [
    {
     "data": {
      "text/plain": [
       "True"
      ]
     },
     "execution_count": 1,
     "metadata": {},
     "output_type": "execute_result"
    }
   ],
   "source": [
    "import cv2\n",
    "import numpy as np\n",
    "\n",
    "def apply_sobel(image):\n",
    "    gray = cv2.cvtColor(image, cv2.COLOR_BGR2GRAY)\n",
    "\n",
    "    Gx = cv2.Sobel(gray, cv2.CV_64F, 1, 0, ksize=3)\n",
    "    Gy = cv2.Sobel(gray, cv2.CV_64F, 0, 1, ksize=3)\n",
    "\n",
    "    G = np.sqrt(Gx**2 + Gy**2)\n",
    "\n",
    "    # Optional thresholding\n",
    "    # threshold = 100\n",
    "    # G[G < threshold] = 0\n",
    "\n",
    "    return G\n",
    "\n",
    "# Example usage\n",
    "image = cv2.imread('cropped_image_t1w_0ax_1_82.jpg')\n",
    "edge_image = apply_sobel(image)\n",
    "cv2.imwrite('Edges.jpg', edge_image)\n",
    "#cv2.waitKey(0)\n"
   ]
  }
 ],
 "metadata": {
  "kernelspec": {
   "display_name": "Python 3",
   "language": "python",
   "name": "python3"
  },
  "language_info": {
   "codemirror_mode": {
    "name": "ipython",
    "version": 3
   },
   "file_extension": ".py",
   "mimetype": "text/x-python",
   "name": "python",
   "nbconvert_exporter": "python",
   "pygments_lexer": "ipython3",
   "version": "3.11.5"
  }
 },
 "nbformat": 4,
 "nbformat_minor": 2
}
