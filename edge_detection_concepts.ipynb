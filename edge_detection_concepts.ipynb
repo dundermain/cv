{
 "cells": [
  {
   "cell_type": "markdown",
   "metadata": {},
   "source": [
    "EDGE DETECTION USING SOVBEL FILTER"
   ]
  },
  {
   "cell_type": "markdown",
   "metadata": {},
   "source": [
    "A very good reference on how sobel filter works : https://aryamansharda.medium.com/how-image-edge-detection-works-b759baac01e2\n",
    "\n",
    "\n",
    "In the simplest terms, thIS algorithm works by running a 3x3 matrix (known as the kernel) over all the pixels in the image. \n",
    "At every iteration, we measure the change in the gradient of the pixels that fall within this 3x3 kernel. The greater the change in pixel intensity, the more significant the edge there is.\n"
   ]
  },
  {
   "cell_type": "code",
   "execution_count": 1,
   "metadata": {},
   "outputs": [
    {
     "data": {
      "text/plain": [
       "True"
      ]
     },
     "execution_count": 1,
     "metadata": {},
     "output_type": "execute_result"
    }
   ],
   "source": [
    "#using sobel function from cv2 library\n",
    "\n",
    "import cv2\n",
    "import numpy as np\n",
    "\n",
    "def apply_sobel(image):\n",
    "    gray = cv2.cvtColor(image, cv2.COLOR_BGR2GRAY)\n",
    "\n",
    "    Gx = cv2.Sobel(gray, cv2.CV_64F, 1, 0, ksize=3)\n",
    "    Gy = cv2.Sobel(gray, cv2.CV_64F, 0, 1, ksize=3)\n",
    "\n",
    "    G = np.sqrt(Gx**2 + Gy**2)\n",
    "\n",
    "    # Optional thresholding\n",
    "    # threshold = 100\n",
    "    # G[G < threshold] = 0\n",
    "\n",
    "    return G\n",
    "\n",
    "# Example usage\n",
    "image = cv2.imread('cropped_image_t1w_0ax_1_82.jpg')\n",
    "edge_image = apply_sobel(image)\n",
    "cv2.imwrite('Edges.jpg', edge_image)\n",
    "#cv2.waitKey(0)\n"
   ]
  },
  {
   "cell_type": "code",
   "execution_count": null,
   "metadata": {},
   "outputs": [],
   "source": [
    "#coding from scratch\n",
    "\n",
    "#code taken from this article: https://medium.com/@nikatsanka/comparing-edge-detection-methods-638a2919476e\n",
    "\n",
    "\n",
    "import numpy as np\n",
    "from PIL import Image\n",
    "import matplotlib.pyplot as plt\n",
    "\n",
    "# Open the image\n",
    "img = np.array(Image.open('dancing-spider.jpg')).astype(np.uint8)\n",
    "\n",
    "# Apply gray scale\n",
    "gray_img = np.round(0.299 * img[:, :, 0] +\n",
    "                    0.587 * img[:, :, 1] +\n",
    "                    0.114 * img[:, :, 2]).astype(np.uint8)\n",
    "\n",
    "# Sobel Operator\n",
    "h, w = gray_img.shape\n",
    "# define filters\n",
    "horizontal = np.array([[-1, 0, 1], [-2, 0, 2], [-1, 0, 1]])  # s2\n",
    "vertical = np.array([[-1, -2, -1], [0, 0, 0], [1, 2, 1]])  # s1\n",
    "\n",
    "# define images with 0s\n",
    "newhorizontalImage = np.zeros((h, w))\n",
    "newverticalImage = np.zeros((h, w))\n",
    "newgradientImage = np.zeros((h, w))\n",
    "\n",
    "# offset by 1\n",
    "for i in range(1, h - 1):\n",
    "    for j in range(1, w - 1):\n",
    "        horizontalGrad = (horizontal[0, 0] * gray_img[i - 1, j - 1]) + \\\n",
    "                         (horizontal[0, 1] * gray_img[i - 1, j]) + \\\n",
    "                         (horizontal[0, 2] * gray_img[i - 1, j + 1]) + \\\n",
    "                         (horizontal[1, 0] * gray_img[i, j - 1]) + \\\n",
    "                         (horizontal[1, 1] * gray_img[i, j]) + \\\n",
    "                         (horizontal[1, 2] * gray_img[i, j + 1]) + \\\n",
    "                         (horizontal[2, 0] * gray_img[i + 1, j - 1]) + \\\n",
    "                         (horizontal[2, 1] * gray_img[i + 1, j]) + \\\n",
    "                         (horizontal[2, 2] * gray_img[i + 1, j + 1])\n",
    "\n",
    "        newhorizontalImage[i - 1, j - 1] = abs(horizontalGrad)\n",
    "\n",
    "        verticalGrad = (vertical[0, 0] * gray_img[i - 1, j - 1]) + \\\n",
    "                       (vertical[0, 1] * gray_img[i - 1, j]) + \\\n",
    "                       (vertical[0, 2] * gray_img[i - 1, j + 1]) + \\\n",
    "                       (vertical[1, 0] * gray_img[i, j - 1]) + \\\n",
    "                       (vertical[1, 1] * gray_img[i, j]) + \\\n",
    "                       (vertical[1, 2] * gray_img[i, j + 1]) + \\\n",
    "                       (vertical[2, 0] * gray_img[i + 1, j - 1]) + \\\n",
    "                       (vertical[2, 1] * gray_img[i + 1, j]) + \\\n",
    "                       (vertical[2, 2] * gray_img[i + 1, j + 1])\n",
    "\n",
    "        newverticalImage[i - 1, j - 1] = abs(verticalGrad)\n",
    "\n",
    "        # Edge Magnitude\n",
    "        mag = np.sqrt(pow(horizontalGrad, 2.0) + pow(verticalGrad, 2.0))\n",
    "        newgradientImage[i - 1, j - 1] = mag\n",
    "\n",
    "plt.figure()\n",
    "plt.title('dancing-spider-sobel.png')\n",
    "plt.imsave('dancing-spider-sobel.png', newgradientImage, cmap='gray', format='png')\n",
    "plt.imshow(newgradientImage, cmap='gray')\n",
    "plt.show()"
   ]
  }
 ],
 "metadata": {
  "kernelspec": {
   "display_name": "Python 3",
   "language": "python",
   "name": "python3"
  },
  "language_info": {
   "codemirror_mode": {
    "name": "ipython",
    "version": 3
   },
   "file_extension": ".py",
   "mimetype": "text/x-python",
   "name": "python",
   "nbconvert_exporter": "python",
   "pygments_lexer": "ipython3",
   "version": "3.11.5"
  }
 },
 "nbformat": 4,
 "nbformat_minor": 2
}
