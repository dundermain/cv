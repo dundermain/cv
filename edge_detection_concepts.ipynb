{
 "cells": [
  {
   "cell_type": "markdown",
   "metadata": {},
   "source": [
    "sobel filter for edge detection\n",
    "\n",
    "a very good reference on how sobel filter works : https://aryamansharda.medium.com/how-image-edge-detection-works-b759baac01e2\n",
    "\n",
    "\n",
    "In the simplest terms, their algorithm works by running a 3x3 matrix (known as the kernel) over all the pixels in the image. \n",
    "At every iteration, we measure the change in the gradient of the pixels that fall within this 3x3 kernel. The greater the change in pixel intensity, the more significant the edge there is.\n"
   ]
  },
  {
   "cell_type": "code",
   "execution_count": null,
   "metadata": {},
   "outputs": [],
   "source": [
    "import cv2\n",
    "import numpy as np\n",
    "\n",
    "def apply_sobel(image):\n",
    "    gray = cv2.cvtColor(image, cv2.COLOR_BGR2GRAY)\n",
    "\n",
    "    Gx = cv2.Sobel(gray, cv2.CV_64F, 1, 0, ksize=3)\n",
    "    Gy = cv2.Sobel(gray, cv2.CV_64F, 0, 1, ksize=3)\n",
    "\n",
    "    G = np.sqrt(Gx**2 + Gy**2)\n",
    "\n",
    "    # Optional thresholding\n",
    "    threshold = 100\n",
    "    G[G < threshold] = 0\n",
    "\n",
    "    return G\n",
    "\n",
    "# Example usage\n",
    "image = cv2.imread('example.jpg')\n",
    "edge_image = apply_sobel(image)\n",
    "cv2.imshow('Edges', edge_image)\n",
    "cv2.waitKey(0)\n"
   ]
  }
 ],
 "metadata": {
  "language_info": {
   "name": "python"
  }
 },
 "nbformat": 4,
 "nbformat_minor": 2
}
